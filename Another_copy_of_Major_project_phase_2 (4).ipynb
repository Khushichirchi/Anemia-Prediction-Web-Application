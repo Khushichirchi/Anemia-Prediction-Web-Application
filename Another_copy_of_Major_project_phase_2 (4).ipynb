{
  "cells": [
    {
      "cell_type": "markdown",
      "metadata": {
        "id": "1zny1RcjY2T9"
      },
      "source": [
        "Importing Libraries & Loading Dataset"
      ]
    },
    {
      "cell_type": "code",
      "execution_count": 1,
      "metadata": {
        "colab": {
          "base_uri": "https://localhost:8080/"
        },
        "id": "q9o580PAIv8u",
        "outputId": "7453c6df-59e0-43d3-c89c-7f65a74ef416"
      },
      "outputs": [
        {
          "output_type": "stream",
          "name": "stdout",
          "text": [
            "        UHID    LABID  AGE GENDER   OLD   NEW  DURATION\n",
            "0   30303481  3291615   45      M  7.81   8.9        32\n",
            "1   30303481  3291615   45      M  8.90   9.4        15\n",
            "2  302248884  3291559   47      M  7.20   8.1        28\n",
            "3  302248884  3291559   47      M  8.10   9.2        32\n",
            "4   30193371  3291238   61      M  9.20  10.0        22\n"
          ]
        }
      ],
      "source": [
        "# Import necessary libraries\n",
        "import pandas as pd\n",
        "import numpy as np\n",
        "\n",
        "# Load the dataset\n",
        "dataset_path = '/content/anemia dataset - Sheet2(1).csv'\n",
        "df = pd.read_csv(dataset_path)\n",
        "\n",
        "# Display the first few rows of the dataset\n",
        "print(df.head())\n"
      ]
    },
    {
      "cell_type": "markdown",
      "metadata": {
        "id": "C8GjwY7jK6X1"
      },
      "source": [
        "Data Preprocessing"
      ]
    },
    {
      "cell_type": "code",
      "execution_count": 2,
      "metadata": {
        "colab": {
          "base_uri": "https://localhost:8080/"
        },
        "id": "XlkA__pBIwVo",
        "outputId": "c414ea1a-9b16-42f1-bbd7-0384393d9458"
      },
      "outputs": [
        {
          "output_type": "stream",
          "name": "stdout",
          "text": [
            "UHID        0\n",
            "LABID       0\n",
            "AGE         0\n",
            "GENDER      2\n",
            "OLD         0\n",
            "NEW         0\n",
            "DURATION    0\n",
            "dtype: int64\n",
            "        UHID    LABID  AGE  GENDER   OLD   NEW  DURATION\n",
            "0   30303481  3291615   45     0.0  7.81   8.9        32\n",
            "1   30303481  3291615   45     0.0  8.90   9.4        15\n",
            "2  302248884  3291559   47     0.0  7.20   8.1        28\n",
            "3  302248884  3291559   47     0.0  8.10   9.2        32\n",
            "4   30193371  3291238   61     0.0  9.20  10.0        22\n"
          ]
        }
      ],
      "source": [
        "# Convert 'GENDER' to numerical representation (M: 0, F: 1)\n",
        "df['GENDER'] = df['GENDER'].map({'M': 0, 'F': 1})\n",
        "\n",
        "# Check for missing values\n",
        "print(df.isnull().sum())\n",
        "\n",
        "# Drop rows with missing values\n",
        "df = df.dropna()\n",
        "\n",
        "print(df.head())"
      ]
    },
    {
      "cell_type": "code",
      "execution_count": 3,
      "metadata": {
        "colab": {
          "base_uri": "https://localhost:8080/"
        },
        "id": "O2oJw78yMEPS",
        "outputId": "dcd5e31a-82c5-4359-dff0-31ad6cfd5376"
      },
      "outputs": [
        {
          "output_type": "stream",
          "name": "stdout",
          "text": [
            "UHID          int64\n",
            "LABID         int64\n",
            "AGE           int64\n",
            "GENDER      float64\n",
            "OLD         float64\n",
            "NEW         float64\n",
            "DURATION      int64\n",
            "dtype: object\n"
          ]
        }
      ],
      "source": [
        "# Display data types of each column\n",
        "print(df.dtypes)"
      ]
    },
    {
      "cell_type": "markdown",
      "metadata": {
        "id": "QE9js2T1Ngcp"
      },
      "source": [
        "Categorical Variable Handling"
      ]
    },
    {
      "cell_type": "code",
      "execution_count": 4,
      "metadata": {
        "id": "YvNq_BobNCaR"
      },
      "outputs": [],
      "source": [
        "# Convert 'GENDER' to one-hot encoding\n",
        "df = pd.get_dummies(df, columns=['GENDER'], drop_first=True)"
      ]
    },
    {
      "cell_type": "markdown",
      "metadata": {
        "id": "HqF5GtkDNx37"
      },
      "source": [
        "Scaling Features"
      ]
    },
    {
      "cell_type": "code",
      "source": [
        "# from sklearn.preprocessing import StandardScaler\n",
        "\n",
        "# # scale 'AGE', 'OLD', 'NEW', and 'DURATION'\n",
        "# columns_to_scale = ['AGE', 'OLD', 'NEW', 'DURATION']\n",
        "\n",
        "# scaler = StandardScaler()\n",
        "# df[columns_to_scale] = scaler.fit_transform(df[columns_to_scale])\n"
      ],
      "metadata": {
        "id": "p-2hROeUU0TV"
      },
      "execution_count": null,
      "outputs": []
    },
    {
      "cell_type": "markdown",
      "metadata": {
        "id": "T_lLQrUmNbM-"
      },
      "source": [
        "Outlier Detection and Removal"
      ]
    },
    {
      "cell_type": "code",
      "source": [
        "# from scipy.stats import zscore\n",
        "# # Remove outliers using z-score\n",
        "# z_scores = np.abs(zscore(df[columns_to_scale]))\n",
        "# df_no_outliers = df[(z_scores < 3).all(axis=1)]\n"
      ],
      "metadata": {
        "id": "zsXh1PAdVA5G"
      },
      "execution_count": null,
      "outputs": []
    },
    {
      "cell_type": "markdown",
      "metadata": {
        "id": "LcbfM-k6NcKu"
      },
      "source": [
        "Handling Missing Values"
      ]
    },
    {
      "cell_type": "code",
      "execution_count": null,
      "metadata": {
        "id": "lZdyHfO1NQqe"
      },
      "outputs": [],
      "source": [
        "# Impute missing values with mean or median\n",
        "df.fillna(df.mean(), inplace=True)\n"
      ]
    },
    {
      "cell_type": "markdown",
      "metadata": {
        "id": "yZh5owcoNdDO"
      },
      "source": [
        "Final Check and Summary"
      ]
    },
    {
      "cell_type": "code",
      "execution_count": 5,
      "metadata": {
        "colab": {
          "base_uri": "https://localhost:8080/"
        },
        "id": "94u6zsUkNQvn",
        "outputId": "efb74124-9fdf-4749-cc11-0aad4a8a8f36"
      },
      "outputs": [
        {
          "output_type": "stream",
          "name": "stdout",
          "text": [
            "UHID          0\n",
            "LABID         0\n",
            "AGE           0\n",
            "OLD           0\n",
            "NEW           0\n",
            "DURATION      0\n",
            "GENDER_1.0    0\n",
            "dtype: int64\n",
            "<class 'pandas.core.frame.DataFrame'>\n",
            "Index: 341 entries, 0 to 342\n",
            "Data columns (total 7 columns):\n",
            " #   Column      Non-Null Count  Dtype  \n",
            "---  ------      --------------  -----  \n",
            " 0   UHID        341 non-null    int64  \n",
            " 1   LABID       341 non-null    int64  \n",
            " 2   AGE         341 non-null    int64  \n",
            " 3   OLD         341 non-null    float64\n",
            " 4   NEW         341 non-null    float64\n",
            " 5   DURATION    341 non-null    int64  \n",
            " 6   GENDER_1.0  341 non-null    bool   \n",
            "dtypes: bool(1), float64(2), int64(4)\n",
            "memory usage: 19.0 KB\n",
            "None\n"
          ]
        }
      ],
      "source": [
        "# Check for any remaining missing values\n",
        "print(df.isnull().sum())\n",
        "\n",
        "# Display summary\n",
        "print(df.info())\n"
      ]
    },
    {
      "cell_type": "markdown",
      "metadata": {
        "id": "s6hvhATVLF4Q"
      },
      "source": [
        "Feature Engineering"
      ]
    },
    {
      "cell_type": "code",
      "execution_count": 6,
      "metadata": {
        "colab": {
          "base_uri": "https://localhost:8080/"
        },
        "id": "2kkoUoBWIwaU",
        "outputId": "9fd4223d-2227-4a26-f07a-c0f2055535e6"
      },
      "outputs": [
        {
          "output_type": "stream",
          "name": "stdout",
          "text": [
            "Rows with non-numeric 'NEW' values:\n",
            "Empty DataFrame\n",
            "Columns: [UHID, LABID, AGE, OLD, NEW, DURATION, GENDER_1.0]\n",
            "Index: []\n",
            "UHID          0\n",
            "LABID         0\n",
            "AGE           0\n",
            "OLD           0\n",
            "NEW           0\n",
            "DURATION      0\n",
            "GENDER_1.0    0\n",
            "dtype: int64\n",
            "        UHID    LABID  AGE   OLD   NEW  DURATION  GENDER_1.0  HEMO_CHANGE_RATE\n",
            "0   30303481  3291615   45  7.81   8.9        32       False          0.034063\n",
            "1   30303481  3291615   45  8.90   9.4        15       False          0.033333\n",
            "2  302248884  3291559   47  7.20   8.1        28       False          0.032143\n",
            "3  302248884  3291559   47  8.10   9.2        32       False          0.034375\n",
            "4   30193371  3291238   61  9.20  10.0        22       False          0.036364\n"
          ]
        }
      ],
      "source": [
        "# Identify non-numeric values in the 'NEW' column\n",
        "non_numeric_new = df['NEW'][pd.to_numeric(df['NEW'], errors='coerce').isnull()]\n",
        "\n",
        "# Display the rows with non-numeric 'NEW' values\n",
        "print(\"Rows with non-numeric 'NEW' values:\")\n",
        "print(df.loc[non_numeric_new.index])\n",
        "\n",
        "# Convert 'NEW' to numeric, replacing non-numeric values with NaN\n",
        "df['NEW'] = pd.to_numeric(df['NEW'], errors='coerce')\n",
        "\n",
        "# Check for missing values after conversion\n",
        "print(df.isnull().sum())\n",
        "\n",
        "# Calculate the rate of change in hemoglobin levels\n",
        "df['HEMO_CHANGE_RATE'] = (df['NEW'] - df['OLD']) / df['DURATION']\n",
        "\n",
        "# Display the dataset with the new feature\n",
        "print(df.head())\n"
      ]
    },
    {
      "cell_type": "markdown",
      "metadata": {
        "id": "WGr4e6z6MXEi"
      },
      "source": [
        "Exploratory Data Analysis (EDA)"
      ]
    },
    {
      "cell_type": "markdown",
      "metadata": {
        "id": "chJiKR8HOIsY"
      },
      "source": [
        "Machine Learning Model"
      ]
    },
    {
      "cell_type": "markdown",
      "metadata": {
        "id": "afueZR5MyEZM"
      },
      "source": [
        "Random forest"
      ]
    },
    {
      "cell_type": "code",
      "execution_count": null,
      "metadata": {
        "id": "UMNFOL8gUSby"
      },
      "outputs": [],
      "source": [
        "# # Randomized Search for Hyperparameter Tuning\n",
        "# from sklearn.model_selection import RandomizedSearchCV\n",
        "# from sklearn.model_selection import train_test_split\n",
        "# from sklearn.ensemble import RandomForestRegressor\n",
        "# X = df.drop(['HEMO_CHANGE_RATE'], axis=1)\n",
        "# y = df['HEMO_CHANGE_RATE']\n",
        "\n",
        "# X_train, X_test, y_train, y_test = train_test_split(X, y, test_size=0.2, random_state=42)\n",
        "\n",
        "# param_dist = {'max_depth': [5, 10, 15, 20], 'min_samples_split': [2, 5, 10], 'n_estimators': [50, 100, 150, 200]}\n",
        "# random_search = RandomizedSearchCV(RandomForestRegressor(), param_distributions=param_dist, n_iter=10, cv=5)\n",
        "# random_search.fit(X, y)\n",
        "\n",
        "# # Best Hyperparameters\n",
        "# best_params_rf = random_search.best_params_\n",
        "\n",
        "# # Model with Best Hyperparameters\n",
        "# rf_model = RandomForestRegressor(**best_params_rf)\n",
        "# rf_model.fit(X, y)\n",
        "\n",
        "# # Evaluation\n",
        "# rf_score = rf_model.score(X_test, y_test)\n",
        "# print(f'Model Score (Random Forest): {rf_score}')\n"
      ]
    },
    {
      "cell_type": "markdown",
      "metadata": {
        "id": "YwBuB6ZcyJk2"
      },
      "source": [
        "Linear Regression"
      ]
    },
    {
      "cell_type": "code",
      "execution_count": 7,
      "metadata": {
        "colab": {
          "base_uri": "https://localhost:8080/"
        },
        "id": "IONgwYgX0Zn9",
        "outputId": "4c60cf83-add4-4106-ce62-e395e68f3690"
      },
      "outputs": [
        {
          "output_type": "stream",
          "name": "stdout",
          "text": [
            "Linear Regression Model Evaluation:\n",
            "R^2 Score: 0.9979\n"
          ]
        }
      ],
      "source": [
        "# Initialize Linear Regression model\n",
        "from sklearn.metrics import r2_score\n",
        "from sklearn.linear_model import LinearRegression\n",
        "from sklearn.model_selection import train_test_split\n",
        "X = df.drop(['NEW'], axis=1)\n",
        "y = df['NEW']\n",
        "lr_model = LinearRegression()\n",
        "X_train, X_test, y_train, y_test = train_test_split(X, y, test_size=0.2, random_state=42)\n",
        "# Train the model\n",
        "lr_model.fit(X_train, y_train)\n",
        "\n",
        "# Make predictions\n",
        "y_pred = lr_model.predict(X_test)\n",
        "\n",
        "# Evaluate the model\n",
        "r2 = r2_score(y_test, y_pred)\n",
        "#mse = mean_squared_error(y_test, y_pred)\n",
        "#mae = mean_absolute_error(y_test, y_pred)\n",
        "\n",
        "print(\"Linear Regression Model Evaluation:\")\n",
        "print(f\"R^2 Score: {r2:.4f}\")\n",
        "#print(f\"Mean Squared Error: {mse:.4f}\")\n",
        "#print(f\"Mean Absolute Error: {mae:.4f}\")\n",
        "\n",
        "# Combine predictions with input features and true labels\n",
        "#results_df = pd.DataFrame({'Actual': y_test, 'Predicted': y_pred})\n",
        "\n",
        "# Exporting results to Excel\n",
        "#excel_file_path = 'linear_regression_prediction_results.xlsx'\n",
        "#results_df.to_excel(excel_file_path, index=False)\n",
        "\n",
        "#print(\"Prediction results exported to Excel successfully.\")"
      ]
    },
    {
      "cell_type": "markdown",
      "source": [
        "gradient boosting"
      ],
      "metadata": {
        "id": "fLG6J3agLOAr"
      }
    },
    {
      "cell_type": "code",
      "source": [
        "# from sklearn.model_selection import train_test_split\n",
        "# #from sklearn.linear_model import LinearRegression, Ridge, Lasso\n",
        "# #from sklearn.tree import DecisionTreeRegressor\n",
        "# from sklearn.ensemble import RandomForestRegressor, GradientBoostingRegressor, ExtraTreesRegressor\n",
        "# from sklearn.metrics import r2_score, mean_squared_error\n",
        "\n",
        "# # Assuming 'HEMO_CHANGE_RATE' is your target variable\n",
        "# X = df.drop(['HEMO_CHANGE_RATE'], axis=1)\n",
        "# y = df['HEMO_CHANGE_RATE']\n",
        "\n",
        "# X_train, X_test, y_train, y_test = train_test_split(X, y, test_size=0.2, random_state=42)\n",
        "\n",
        "# models = {\n",
        "#     #'Decision Tree': DecisionTreeRegressor(),\n",
        "#     #'Random Forest': RandomForestRegressor(),\n",
        "#     'Gradient Boosting': GradientBoostingRegressor(),\n",
        "#     #'Extra Trees': ExtraTreesRegressor()  # Add Extra Trees Regressor\n",
        "# }\n",
        "\n",
        "# # Train and evaluate each model\n",
        "# for name, model in models.items():\n",
        "#     model.fit(X_train, y_train)\n",
        "#     y_pred = model.predict(X_test)\n",
        "\n",
        "#     r2 = r2_score(y_test, y_pred)\n",
        "#     #mse = mean_squared_error(y_test, y_pred)\n",
        "\n",
        "#     print(f\"Model: {name}\")\n",
        "#     print(f\"R^2 Score: {r2:.4f}\")\n",
        "#     #print(f\"Mean Squared Error: {mse:.4f}\")\n",
        "\n",
        "\n",
        "\n"
      ],
      "metadata": {
        "id": "PwcNRHroLNiF"
      },
      "execution_count": null,
      "outputs": []
    },
    {
      "cell_type": "markdown",
      "source": [
        "Descision Tree"
      ],
      "metadata": {
        "id": "j9UTQt3vPxPK"
      }
    },
    {
      "cell_type": "code",
      "source": [
        "# from sklearn.model_selection import train_test_split\n",
        "\n",
        "# from sklearn.tree import DecisionTreeRegressor\n",
        "\n",
        "# from sklearn.metrics import r2_score, mean_squared_error\n",
        "\n",
        "# # Assuming 'HEMO_CHANGE_RATE' is your target variable\n",
        "# X = df.drop(['HEMO_CHANGE_RATE'], axis=1)\n",
        "# y = df['HEMO_CHANGE_RATE']\n",
        "\n",
        "# X_train, X_test, y_train, y_test = train_test_split(X, y, test_size=0.2, random_state=42)\n",
        "\n",
        "# models = {\n",
        "#     'Decision Tree': DecisionTreeRegressor(),\n",
        "\n",
        "# }\n",
        "\n",
        "# # Train and evaluate each model\n",
        "# for name, model in models.items():\n",
        "#     model.fit(X_train, y_train)\n",
        "#     y_pred = model.predict(X_test)\n",
        "\n",
        "#     r2 = r2_score(y_test, y_pred)\n",
        "\n",
        "\n",
        "#     print(f\"Model: {name}\")\n",
        "#     print(f\"R^2 Score: {r2:.4f}\")\n",
        "\n"
      ],
      "metadata": {
        "id": "bJWOHiJ-PoVk"
      },
      "execution_count": null,
      "outputs": []
    },
    {
      "cell_type": "markdown",
      "source": [
        "Extra TREES"
      ],
      "metadata": {
        "id": "D3WjzWO2TDnH"
      }
    },
    {
      "cell_type": "code",
      "source": [
        "# from sklearn.model_selection import train_test_split\n",
        "\n",
        "\n",
        "# from sklearn.ensemble import  ExtraTreesRegressor\n",
        "# from sklearn.metrics import r2_score, mean_squared_error\n",
        "\n",
        "# # Assuming 'HEMO_CHANGE_RATE' is your target variable\n",
        "# X = df.drop(['HEMO_CHANGE_RATE'], axis=1)\n",
        "# y = df['HEMO_CHANGE_RATE']\n",
        "\n",
        "# X_train, X_test, y_train, y_test = train_test_split(X, y, test_size=0.2, random_state=42)\n",
        "\n",
        "# models = {\n",
        "\n",
        "#     'Extra Trees': ExtraTreesRegressor()  # Add Extra Trees Regressor\n",
        "# }\n",
        "\n",
        "# # Train and evaluate each model\n",
        "# for name, model in models.items():\n",
        "#     model.fit(X_train, y_train)\n",
        "#     y_pred = model.predict(X_test)\n",
        "\n",
        "#     r2 = r2_score(y_test, y_pred)\n",
        "\n",
        "\n",
        "#     print(f\"Model: {name}\")\n",
        "#     print(f\"R^2 Score: {r2:.4f}\")\n",
        "\n"
      ],
      "metadata": {
        "id": "WThTYSiyTFht"
      },
      "execution_count": null,
      "outputs": []
    },
    {
      "cell_type": "markdown",
      "source": [
        "model1"
      ],
      "metadata": {
        "id": "E-TlCeH-aesy"
      }
    },
    {
      "cell_type": "code",
      "source": [
        "# from sklearn.model_selection import train_test_split\n",
        "# from sklearn.linear_model import LinearRegression, Ridge, Lasso\n",
        "# from sklearn.tree import DecisionTreeRegressor\n",
        "# from sklearn.ensemble import RandomForestRegressor, GradientBoostingRegressor, ExtraTreesRegressor\n",
        "# from sklearn.metrics import r2_score, mean_squared_error\n",
        "\n",
        "# # Assuming 'HEMO_CHANGE_RATE' is your target variable\n",
        "# X = df.drop(['HEMO_CHANGE_RATE'], axis=1)\n",
        "# y = df['HEMO_CHANGE_RATE']\n",
        "\n",
        "# X_train, X_test, y_train, y_test = train_test_split(X, y, test_size=0.2, random_state=42)\n",
        "\n",
        "# models = {\n",
        "#     'Decision Tree': DecisionTreeRegressor(),\n",
        "#     'Random Forest': RandomForestRegressor(),\n",
        "#     'Gradient Boosting': GradientBoostingRegressor(),\n",
        "#     'Extra Trees': ExtraTreesRegressor()  # Add Extra Trees Regressor\n",
        "# }\n",
        "\n",
        "# # Train and evaluate each model\n",
        "# for name, model in models.items():\n",
        "#     model.fit(X_train, y_train)\n",
        "#     y_pred = model.predict(X_test)\n",
        "\n",
        "#     r2 = r2_score(y_test, y_pred)\n",
        "#     mse = mean_squared_error(y_test, y_pred)\n",
        "\n",
        "#     print(f\"Model: {name}\")\n",
        "#     print(f\"R^2 Score: {r2:.4f}\")\n",
        "#     print(f\"Mean Squared Error: {mse:.4f}\")\n"
      ],
      "metadata": {
        "id": "j8BndUYFUZ1R"
      },
      "execution_count": null,
      "outputs": []
    },
    {
      "cell_type": "markdown",
      "source": [
        "model2"
      ],
      "metadata": {
        "id": "0sEvB0-qagb8"
      }
    },
    {
      "cell_type": "code",
      "source": [
        "# from sklearn.model_selection import train_test_split\n",
        "# from sklearn.linear_model import LinearRegression, Ridge, Lasso\n",
        "# from sklearn.tree import DecisionTreeRegressor\n",
        "# from sklearn.ensemble import RandomForestRegressor, GradientBoostingRegressor, ExtraTreesRegressor\n",
        "# from sklearn.metrics import r2_score, mean_squared_error\n",
        "\n",
        "# # Assuming 'HEMO_CHANGE_RATE' is your target variable\n",
        "# X = df.drop(['NEW'], axis=1)\n",
        "# y = df['NEW']\n",
        "\n",
        "# X_train, X_test, y_train, y_test = train_test_split(X, y, test_size=0.2, random_state=42)\n",
        "\n",
        "# models = {\n",
        "#     'Linear Regression': LinearRegression(),\n",
        "#     'Ridge Regression': Ridge(),\n",
        "#     'Lasso Regression': Lasso(),\n",
        "#     'Decision Tree': DecisionTreeRegressor(),\n",
        "#     'Random Forest': RandomForestRegressor(),\n",
        "#     'Gradient Boosting': GradientBoostingRegressor(),\n",
        "#     'Extra Trees': ExtraTreesRegressor()  # Add Extra Trees Regressor\n",
        "# }\n",
        "\n",
        "# # Train and evaluate each model\n",
        "# for name, model in models.items():\n",
        "#     model.fit(X_train, y_train)\n",
        "#     y_pred = model.predict(X_test)\n",
        "\n",
        "#     r2 = r2_score(y_test, y_pred)\n",
        "#     mse = mean_squared_error(y_test, y_pred)\n",
        "\n",
        "#     print(f\"Model: {name}\")\n",
        "#     print(f\"R^2 Score: {r2:.4f}\")\n",
        "#     print(f\"Mean Squared Error: {mse:.4f}\")"
      ],
      "metadata": {
        "colab": {
          "base_uri": "https://localhost:8080/"
        },
        "id": "UMjwxP-FXsVk",
        "outputId": "2faba335-258c-43b2-ac5c-29d3234c29fb"
      },
      "execution_count": null,
      "outputs": [
        {
          "output_type": "stream",
          "name": "stdout",
          "text": [
            "Model: Linear Regression\n",
            "R^2 Score: 0.9979\n",
            "Mean Squared Error: 0.0037\n",
            "Model: Ridge Regression\n",
            "R^2 Score: 0.9880\n",
            "Mean Squared Error: 0.0215\n",
            "Model: Lasso Regression\n",
            "R^2 Score: 0.6219\n",
            "Mean Squared Error: 0.6763\n",
            "Model: Decision Tree\n",
            "R^2 Score: 0.9690\n",
            "Mean Squared Error: 0.0554\n"
          ]
        },
        {
          "output_type": "stream",
          "name": "stderr",
          "text": [
            "/usr/local/lib/python3.10/dist-packages/sklearn/linear_model/_ridge.py:216: LinAlgWarning: Ill-conditioned matrix (rcond=5.39391e-18): result may not be accurate.\n",
            "  return linalg.solve(A, Xy, assume_a=\"pos\", overwrite_a=True).T\n"
          ]
        },
        {
          "output_type": "stream",
          "name": "stdout",
          "text": [
            "Model: Random Forest\n",
            "R^2 Score: 0.9883\n",
            "Mean Squared Error: 0.0208\n",
            "Model: Gradient Boosting\n",
            "R^2 Score: 0.9892\n",
            "Mean Squared Error: 0.0193\n",
            "Model: Extra Trees\n",
            "R^2 Score: 0.9934\n",
            "Mean Squared Error: 0.0118\n"
          ]
        }
      ]
    },
    {
      "cell_type": "code",
      "execution_count": 8,
      "metadata": {
        "colab": {
          "base_uri": "https://localhost:8080/"
        },
        "id": "CyB5-BRbi8cD",
        "outputId": "ec2ec971-4fb6-4d07-d88c-b5b7ab07d96c"
      },
      "outputs": [
        {
          "output_type": "execute_result",
          "data": {
            "text/plain": [
              "['trained_model_nlr1.pkl']"
            ]
          },
          "metadata": {},
          "execution_count": 8
        }
      ],
      "source": [
        "import joblib\n",
        "\n",
        "# Save the model\n",
        "joblib.dump(lr_model, 'trained_model_nlr1.pkl')\n"
      ]
    },
    {
      "cell_type": "code",
      "execution_count": 9,
      "metadata": {
        "colab": {
          "base_uri": "https://localhost:8080/"
        },
        "id": "0broHp4AjgTq",
        "outputId": "5506fbcb-951d-43c9-a678-47039aa7623b"
      },
      "outputs": [
        {
          "output_type": "stream",
          "name": "stdout",
          "text": [
            "Mounted at /content/drive\n"
          ]
        }
      ],
      "source": [
        "from google.colab import drive\n",
        "drive.mount('/content/drive')"
      ]
    },
    {
      "cell_type": "code",
      "execution_count": 10,
      "metadata": {
        "id": "-4eyOjHfkMZc"
      },
      "outputs": [],
      "source": [
        "model_file_path = '/content/trained_model_nlr1.pkl'"
      ]
    },
    {
      "cell_type": "code",
      "execution_count": 11,
      "metadata": {
        "colab": {
          "base_uri": "https://localhost:8080/"
        },
        "id": "aFaaKT30kR83",
        "outputId": "17334f7b-da09-4435-cd41-fe75620ac145"
      },
      "outputs": [
        {
          "output_type": "execute_result",
          "data": {
            "text/plain": [
              "['/content/trained_model_nlr1.pkl']"
            ]
          },
          "metadata": {},
          "execution_count": 11
        }
      ],
      "source": [
        "joblib.dump(lr_model, model_file_path)"
      ]
    }
  ],
  "metadata": {
    "colab": {
      "provenance": []
    },
    "kernelspec": {
      "display_name": "Python 3",
      "name": "python3"
    },
    "language_info": {
      "name": "python"
    }
  },
  "nbformat": 4,
  "nbformat_minor": 0
}